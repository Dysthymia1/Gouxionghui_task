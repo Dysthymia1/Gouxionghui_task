{
 "cells": [
  {
   "cell_type": "code",
   "id": "initial_id",
   "metadata": {
    "collapsed": true,
    "ExecuteTime": {
     "end_time": "2025-04-14T06:15:23.156822Z",
     "start_time": "2025-04-14T06:15:22.091492Z"
    }
   },
   "source": [
    "import requests\n",
    "import json\n",
    "import time\n",
    "import pandas as pd\n",
    "from tqdm import tqdm\n",
    "\n",
    "weibo_total_comments_path = \"../result/task3/weibo_total_comments.csv\"\n",
    "bilibili_total_comments_path = \"../result/task3/bilibili_total_comments.csv\"\n",
    "weibo_df = pd.read_csv(weibo_total_comments_path)\n",
    "bilibili_df = pd.read_csv(bilibili_total_comments_path)\n",
    "\n",
    "output_path = \"../result/task6\""
   ],
   "outputs": [],
   "execution_count": 1
  },
  {
   "metadata": {
    "ExecuteTime": {
     "end_time": "2025-04-14T06:15:25.593654Z",
     "start_time": "2025-04-14T06:15:25.525986Z"
    }
   },
   "cell_type": "code",
   "source": [
    "\n",
    "wb = weibo_df[['content', 'time']]  \n",
    "\n",
    "wb.head(10)  # 展示数据的前10行"
   ],
   "id": "c8b4859437165485",
   "outputs": [
    {
     "data": {
      "text/plain": [
       "                                             content                 time\n",
       "0                                              代肝dd哦  2025-03-12 00:16:25\n",
       "1                                               转发微博  2025-03-09 17:53:38\n",
       "2                                              加强弑君者  2025-03-08 11:02:23\n",
       "3  加强近卫阿米娅 加强医疗阿米娅 加强能天使 加强Ash 加强远牙 加强霍尔海雅 加强荒芜拉普...  2025-03-08 09:47:36\n",
       "4  朋友们看看视频的右下角那行字呢……yj是有权利落地前修改数值的……当然这不是把其他干员做得稀...  2025-03-07 20:47:59\n",
       "5                                            请加强霍尔海雅  2025-03-07 20:11:07\n",
       "6                                悄悄改角色是吧，你他妈知道你做了一坨啊  2025-03-07 16:04:12\n",
       "7  回复@023-纯真chan:vvan其实真没啥人气的，至少长夜临光后到崔金前，我个人只看到过...  2025-03-07 15:53:12\n",
       "8  回复@023-纯真chan:vvan其实真没啥人气的，至少长夜临光后到崔金前，我个人只看到过...  2025-03-07 15:53:12\n",
       "9                                   凭什么只改香蕉姐！！！重做君君！  2025-03-07 13:30:14"
      ],
      "text/html": [
       "<div>\n",
       "<style scoped>\n",
       "    .dataframe tbody tr th:only-of-type {\n",
       "        vertical-align: middle;\n",
       "    }\n",
       "\n",
       "    .dataframe tbody tr th {\n",
       "        vertical-align: top;\n",
       "    }\n",
       "\n",
       "    .dataframe thead th {\n",
       "        text-align: right;\n",
       "    }\n",
       "</style>\n",
       "<table border=\"1\" class=\"dataframe\">\n",
       "  <thead>\n",
       "    <tr style=\"text-align: right;\">\n",
       "      <th></th>\n",
       "      <th>content</th>\n",
       "      <th>time</th>\n",
       "    </tr>\n",
       "  </thead>\n",
       "  <tbody>\n",
       "    <tr>\n",
       "      <th>0</th>\n",
       "      <td>代肝dd哦</td>\n",
       "      <td>2025-03-12 00:16:25</td>\n",
       "    </tr>\n",
       "    <tr>\n",
       "      <th>1</th>\n",
       "      <td>转发微博</td>\n",
       "      <td>2025-03-09 17:53:38</td>\n",
       "    </tr>\n",
       "    <tr>\n",
       "      <th>2</th>\n",
       "      <td>加强弑君者</td>\n",
       "      <td>2025-03-08 11:02:23</td>\n",
       "    </tr>\n",
       "    <tr>\n",
       "      <th>3</th>\n",
       "      <td>加强近卫阿米娅 加强医疗阿米娅 加强能天使 加强Ash 加强远牙 加强霍尔海雅 加强荒芜拉普...</td>\n",
       "      <td>2025-03-08 09:47:36</td>\n",
       "    </tr>\n",
       "    <tr>\n",
       "      <th>4</th>\n",
       "      <td>朋友们看看视频的右下角那行字呢……yj是有权利落地前修改数值的……当然这不是把其他干员做得稀...</td>\n",
       "      <td>2025-03-07 20:47:59</td>\n",
       "    </tr>\n",
       "    <tr>\n",
       "      <th>5</th>\n",
       "      <td>请加强霍尔海雅</td>\n",
       "      <td>2025-03-07 20:11:07</td>\n",
       "    </tr>\n",
       "    <tr>\n",
       "      <th>6</th>\n",
       "      <td>悄悄改角色是吧，你他妈知道你做了一坨啊</td>\n",
       "      <td>2025-03-07 16:04:12</td>\n",
       "    </tr>\n",
       "    <tr>\n",
       "      <th>7</th>\n",
       "      <td>回复@023-纯真chan:vvan其实真没啥人气的，至少长夜临光后到崔金前，我个人只看到过...</td>\n",
       "      <td>2025-03-07 15:53:12</td>\n",
       "    </tr>\n",
       "    <tr>\n",
       "      <th>8</th>\n",
       "      <td>回复@023-纯真chan:vvan其实真没啥人气的，至少长夜临光后到崔金前，我个人只看到过...</td>\n",
       "      <td>2025-03-07 15:53:12</td>\n",
       "    </tr>\n",
       "    <tr>\n",
       "      <th>9</th>\n",
       "      <td>凭什么只改香蕉姐！！！重做君君！</td>\n",
       "      <td>2025-03-07 13:30:14</td>\n",
       "    </tr>\n",
       "  </tbody>\n",
       "</table>\n",
       "</div>"
      ]
     },
     "execution_count": 2,
     "metadata": {},
     "output_type": "execute_result"
    }
   ],
   "execution_count": 2
  },
  {
   "metadata": {
    "ExecuteTime": {
     "end_time": "2025-04-14T06:15:30.129616Z",
     "start_time": "2025-04-14T06:15:28.975081Z"
    }
   },
   "cell_type": "code",
   "source": [
    "client_id = ''  # API key\n",
    "client_secret = ''  # secret key\n",
    "res = requests.post(f'https://aip.baidubce.com/oauth/2.0/token?'\n",
    "                    f'grant_type=client_credentials'\n",
    "                    f'&client_id={client_id}'\n",
    "                    f'&client_secret={client_secret}')  # 进行鉴权认证\n",
    "access_token = res.json()['access_token']  # 获得access_token"
   ],
   "id": "491fcd5c10555b66",
   "outputs": [],
   "execution_count": 3
  },
  {
   "metadata": {
    "ExecuteTime": {
     "end_time": "2025-04-14T06:15:35.915653Z",
     "start_time": "2025-04-14T06:15:35.896128Z"
    }
   },
   "cell_type": "code",
   "source": [
    "# 使用access_token构造url\n",
    "url = f'https://aip.baidubce.com/rpc/2.0/nlp/v1/sentiment_classify?charset=UTF-8&access_token={access_token}'\n",
    "wb['positive_prob'] = 0  # 添加一列来记录正向情感得分\n",
    "wb['negative_prob'] = 0  # 添加一列来记录负向情感得分\n",
    "wb.head(10)  # 展示数据的前10行"
   ],
   "id": "b12a43aa0e588c54",
   "outputs": [
    {
     "data": {
      "text/plain": [
       "                                             content                 time  \\\n",
       "0                                              代肝dd哦  2025-03-12 00:16:25   \n",
       "1                                               转发微博  2025-03-09 17:53:38   \n",
       "2                                              加强弑君者  2025-03-08 11:02:23   \n",
       "3  加强近卫阿米娅 加强医疗阿米娅 加强能天使 加强Ash 加强远牙 加强霍尔海雅 加强荒芜拉普...  2025-03-08 09:47:36   \n",
       "4  朋友们看看视频的右下角那行字呢……yj是有权利落地前修改数值的……当然这不是把其他干员做得稀...  2025-03-07 20:47:59   \n",
       "5                                            请加强霍尔海雅  2025-03-07 20:11:07   \n",
       "6                                悄悄改角色是吧，你他妈知道你做了一坨啊  2025-03-07 16:04:12   \n",
       "7  回复@023-纯真chan:vvan其实真没啥人气的，至少长夜临光后到崔金前，我个人只看到过...  2025-03-07 15:53:12   \n",
       "8  回复@023-纯真chan:vvan其实真没啥人气的，至少长夜临光后到崔金前，我个人只看到过...  2025-03-07 15:53:12   \n",
       "9                                   凭什么只改香蕉姐！！！重做君君！  2025-03-07 13:30:14   \n",
       "\n",
       "   positive_prob  negative_prob  \n",
       "0              0              0  \n",
       "1              0              0  \n",
       "2              0              0  \n",
       "3              0              0  \n",
       "4              0              0  \n",
       "5              0              0  \n",
       "6              0              0  \n",
       "7              0              0  \n",
       "8              0              0  \n",
       "9              0              0  "
      ],
      "text/html": [
       "<div>\n",
       "<style scoped>\n",
       "    .dataframe tbody tr th:only-of-type {\n",
       "        vertical-align: middle;\n",
       "    }\n",
       "\n",
       "    .dataframe tbody tr th {\n",
       "        vertical-align: top;\n",
       "    }\n",
       "\n",
       "    .dataframe thead th {\n",
       "        text-align: right;\n",
       "    }\n",
       "</style>\n",
       "<table border=\"1\" class=\"dataframe\">\n",
       "  <thead>\n",
       "    <tr style=\"text-align: right;\">\n",
       "      <th></th>\n",
       "      <th>content</th>\n",
       "      <th>time</th>\n",
       "      <th>positive_prob</th>\n",
       "      <th>negative_prob</th>\n",
       "    </tr>\n",
       "  </thead>\n",
       "  <tbody>\n",
       "    <tr>\n",
       "      <th>0</th>\n",
       "      <td>代肝dd哦</td>\n",
       "      <td>2025-03-12 00:16:25</td>\n",
       "      <td>0</td>\n",
       "      <td>0</td>\n",
       "    </tr>\n",
       "    <tr>\n",
       "      <th>1</th>\n",
       "      <td>转发微博</td>\n",
       "      <td>2025-03-09 17:53:38</td>\n",
       "      <td>0</td>\n",
       "      <td>0</td>\n",
       "    </tr>\n",
       "    <tr>\n",
       "      <th>2</th>\n",
       "      <td>加强弑君者</td>\n",
       "      <td>2025-03-08 11:02:23</td>\n",
       "      <td>0</td>\n",
       "      <td>0</td>\n",
       "    </tr>\n",
       "    <tr>\n",
       "      <th>3</th>\n",
       "      <td>加强近卫阿米娅 加强医疗阿米娅 加强能天使 加强Ash 加强远牙 加强霍尔海雅 加强荒芜拉普...</td>\n",
       "      <td>2025-03-08 09:47:36</td>\n",
       "      <td>0</td>\n",
       "      <td>0</td>\n",
       "    </tr>\n",
       "    <tr>\n",
       "      <th>4</th>\n",
       "      <td>朋友们看看视频的右下角那行字呢……yj是有权利落地前修改数值的……当然这不是把其他干员做得稀...</td>\n",
       "      <td>2025-03-07 20:47:59</td>\n",
       "      <td>0</td>\n",
       "      <td>0</td>\n",
       "    </tr>\n",
       "    <tr>\n",
       "      <th>5</th>\n",
       "      <td>请加强霍尔海雅</td>\n",
       "      <td>2025-03-07 20:11:07</td>\n",
       "      <td>0</td>\n",
       "      <td>0</td>\n",
       "    </tr>\n",
       "    <tr>\n",
       "      <th>6</th>\n",
       "      <td>悄悄改角色是吧，你他妈知道你做了一坨啊</td>\n",
       "      <td>2025-03-07 16:04:12</td>\n",
       "      <td>0</td>\n",
       "      <td>0</td>\n",
       "    </tr>\n",
       "    <tr>\n",
       "      <th>7</th>\n",
       "      <td>回复@023-纯真chan:vvan其实真没啥人气的，至少长夜临光后到崔金前，我个人只看到过...</td>\n",
       "      <td>2025-03-07 15:53:12</td>\n",
       "      <td>0</td>\n",
       "      <td>0</td>\n",
       "    </tr>\n",
       "    <tr>\n",
       "      <th>8</th>\n",
       "      <td>回复@023-纯真chan:vvan其实真没啥人气的，至少长夜临光后到崔金前，我个人只看到过...</td>\n",
       "      <td>2025-03-07 15:53:12</td>\n",
       "      <td>0</td>\n",
       "      <td>0</td>\n",
       "    </tr>\n",
       "    <tr>\n",
       "      <th>9</th>\n",
       "      <td>凭什么只改香蕉姐！！！重做君君！</td>\n",
       "      <td>2025-03-07 13:30:14</td>\n",
       "      <td>0</td>\n",
       "      <td>0</td>\n",
       "    </tr>\n",
       "  </tbody>\n",
       "</table>\n",
       "</div>"
      ]
     },
     "execution_count": 4,
     "metadata": {},
     "output_type": "execute_result"
    }
   ],
   "execution_count": 4
  },
  {
   "metadata": {
    "ExecuteTime": {
     "end_time": "2025-04-14T06:15:39.725830Z",
     "start_time": "2025-04-14T06:15:39.715986Z"
    }
   },
   "cell_type": "code",
   "source": "print(wb['content'][1])",
   "id": "57b06d2315b844fc",
   "outputs": [
    {
     "name": "stdout",
     "output_type": "stream",
     "text": [
      "转发微博\n"
     ]
    }
   ],
   "execution_count": 5
  },
  {
   "metadata": {
    "ExecuteTime": {
     "end_time": "2025-04-14T06:46:52.305109Z",
     "start_time": "2025-04-14T06:46:40.741657Z"
    }
   },
   "cell_type": "code",
   "source": [
    "# 遍历所有的评论\n",
    "for i in tqdm(range(0, 5)):\n",
    "    data = json.dumps({'text': wb['content'][i]})  # 构建请求的data\n",
    "    res = requests.post(url, data).json()  # 请求API数据\n",
    "    if 'items' in res.keys():\n",
    "        wb.loc[i, 'positive_prob'] = res['items'][0]['positive_prob']  # 记录正向得分\n",
    "        wb.loc[i, 'negative_prob'] = res['items'][0]['negative_prob']  # 记录负向得分\n",
    "    time.sleep(1)  # 间隔0.5秒\n",
    "    \n",
    "# 将结果存储为csv文件\n",
    "wb.to_csv(f'{output_path}/wbemotion.csv', index=False)"
   ],
   "id": "68ccad473339fab4",
   "outputs": [
    {
     "name": "stderr",
     "output_type": "stream",
     "text": [
      "  0%|          | 0/5 [00:00<?, ?it/s]C:\\Users\\s6_ti\\AppData\\Local\\Temp\\ipykernel_35328\\3279492459.py:6: FutureWarning: Setting an item of incompatible dtype is deprecated and will raise an error in a future version of pandas. Value '0.958046' has dtype incompatible with int64, please explicitly cast to a compatible dtype first.\n",
      "  wb.loc[i, 'positive_prob'] = res['items'][0]['positive_prob']  # 记录正向得分\n",
      "C:\\Users\\s6_ti\\AppData\\Local\\Temp\\ipykernel_35328\\3279492459.py:7: FutureWarning: Setting an item of incompatible dtype is deprecated and will raise an error in a future version of pandas. Value '0.0419543' has dtype incompatible with int64, please explicitly cast to a compatible dtype first.\n",
      "  wb.loc[i, 'negative_prob'] = res['items'][0]['negative_prob']  # 记录负向得分\n",
      "100%|██████████| 5/5 [00:11<00:00,  2.30s/it]\n"
     ]
    }
   ],
   "execution_count": 8
  },
  {
   "metadata": {},
   "cell_type": "code",
   "outputs": [],
   "execution_count": null,
   "source": "",
   "id": "43f7f2fb1b7b48d8"
  },
  {
   "metadata": {},
   "cell_type": "code",
   "outputs": [],
   "execution_count": null,
   "source": "",
   "id": "c34ff3a0b22a33b5"
  }
 ],
 "metadata": {
  "kernelspec": {
   "display_name": "Python 3",
   "language": "python",
   "name": "python3"
  },
  "language_info": {
   "codemirror_mode": {
    "name": "ipython",
    "version": 2
   },
   "file_extension": ".py",
   "mimetype": "text/x-python",
   "name": "python",
   "nbconvert_exporter": "python",
   "pygments_lexer": "ipython2",
   "version": "2.7.6"
  }
 },
 "nbformat": 4,
 "nbformat_minor": 5
}
