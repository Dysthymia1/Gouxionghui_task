{
 "cells": [
  {
   "metadata": {},
   "cell_type": "markdown",
   "source": [
    "# TASK 3 网络舆情热度口碑分析\n",
    "## 一、数据预处理\n",
    "### 1.1 相关模块导入 与 全局设置"
   ],
   "id": "67162396163818ae"
  },
  {
   "metadata": {
    "ExecuteTime": {
     "end_time": "2025-04-14T05:38:11.782799Z",
     "start_time": "2025-04-14T05:38:11.614274Z"
    }
   },
   "cell_type": "code",
   "source": [
    "\n",
    "import datetime\n",
    "import os\n",
    "from collections import Counter\n",
    "\n",
    "import jieba\n",
    "import matplotlib.pyplot as plt\n",
    "import numpy as np\n",
    "import pandas as pd\n",
    "import seaborn as sns\n",
    "from wordcloud import WordCloud\n",
    "\n",
    "plt.rcParams['font.sans-serif'] = ['Microsoft YaHei']\n",
    "weibo_comments_path = \"../../result/task2/weibo\"\n",
    "\n",
    "bilibili_comments_path = \"../../result/task2/bilibili\"\n",
    "\n",
    "stops_path = \"resources/stopword.txt\"\n",
    "user_dict_path = \"resources/user_dict.txt\""
   ],
   "id": "a2d8333974ae72a2",
   "outputs": [],
   "execution_count": 1
  },
  {
   "metadata": {},
   "cell_type": "markdown",
   "source": "### 1.2 读取数据",
   "id": "db8005ab189bca40"
  },
  {
   "metadata": {
    "ExecuteTime": {
     "end_time": "2025-04-14T05:38:24.594159Z",
     "start_time": "2025-04-14T05:38:23.932107Z"
    }
   },
   "cell_type": "code",
   "source": [
    "def read_comments_from_path(_path):\n",
    "    data_frames = []\n",
    "    for root, dirs, files in os.walk(_path):\n",
    "        for file in files:\n",
    "            # 检查文件是否为 CSV 文件\n",
    "            if file.endswith('.csv'):\n",
    "                # 构建文件的完整路径\n",
    "                file_path = os.path.join(root, file)\n",
    "                try:\n",
    "                    # 读取 CSV 文件并添加到数据框列表中\n",
    "                    df = pd.read_csv(file_path)\n",
    "                    data_frames.append(df)\n",
    "                except Exception as e:\n",
    "                    print(f\"读取 {file_path} 时出错: {e}\")\n",
    "    df = pd.concat(data_frames, ignore_index=True)\n",
    "    df.columns = ['ID', 'nickname', 'gender', 'level', 'followers', 'address', 'content', 'likes', 'time', 'hierarchy',\n",
    "                  'rootID']\n",
    "    return df\n",
    "\n",
    "\n",
    "weibo_df = read_comments_from_path(weibo_comments_path)\n",
    "bilibili_df = read_comments_from_path(bilibili_comments_path)\n",
    "# B站获取的时间需要校准（UTC → 北京时间，再去除时区信息）\n",
    "bilibili_df['time'] = pd.to_datetime(bilibili_df['time'], utc=True).dt.tz_convert('Asia/Shanghai').dt.tz_localize(None)"
   ],
   "id": "556976c291189246",
   "outputs": [],
   "execution_count": 2
  },
  {
   "metadata": {},
   "cell_type": "markdown",
   "source": "### 1.3 分别显示微博评论和B站评论的前几项",
   "id": "bb8467f771dade61"
  },
  {
   "metadata": {
    "ExecuteTime": {
     "end_time": "2025-04-14T05:38:27.380707Z",
     "start_time": "2025-04-14T05:38:27.366327Z"
    }
   },
   "cell_type": "code",
   "source": "weibo_df.head()",
   "id": "91b6b82a4c563805",
   "outputs": [
    {
     "data": {
      "text/plain": [
       "                 ID       nickname gender  level  followers address  \\\n",
       "0  5145502401431273          左下灯偏青      男      0         27      北京   \n",
       "1  5143708904459705  fengwang33009      男      0          7      四川   \n",
       "2  5143165967272975       如谜199108      男      0          2      安徽   \n",
       "3  5142344862535718         放鹤归舟vV      女      0          2      广东   \n",
       "4  5141878979954586           啦啦的咯      女      0         53      山东   \n",
       "\n",
       "                           content  likes                 time hierarchy  \\\n",
       "0  在国航飞机上看到了明日方舟的音乐内容[doge]这是运营也玩吗      0  2025-03-18 11:00:34       根评论   \n",
       "1                                吗      0  2025-03-13 12:13:51       根评论   \n",
       "2                            代肝dd哦      0  2025-03-12 00:16:25       根评论   \n",
       "3                             转发微博      0  2025-03-09 17:53:38       根评论   \n",
       "4                            加强弑君者      0  2025-03-08 11:02:23       根评论   \n",
       "\n",
       "             rootID  \n",
       "0  5145502401431273  \n",
       "1  5143708904459705  \n",
       "2  5143165967272975  \n",
       "3  5142344862535718  \n",
       "4  5141878979954586  "
      ],
      "text/html": [
       "<div>\n",
       "<style scoped>\n",
       "    .dataframe tbody tr th:only-of-type {\n",
       "        vertical-align: middle;\n",
       "    }\n",
       "\n",
       "    .dataframe tbody tr th {\n",
       "        vertical-align: top;\n",
       "    }\n",
       "\n",
       "    .dataframe thead th {\n",
       "        text-align: right;\n",
       "    }\n",
       "</style>\n",
       "<table border=\"1\" class=\"dataframe\">\n",
       "  <thead>\n",
       "    <tr style=\"text-align: right;\">\n",
       "      <th></th>\n",
       "      <th>ID</th>\n",
       "      <th>nickname</th>\n",
       "      <th>gender</th>\n",
       "      <th>level</th>\n",
       "      <th>followers</th>\n",
       "      <th>address</th>\n",
       "      <th>content</th>\n",
       "      <th>likes</th>\n",
       "      <th>time</th>\n",
       "      <th>hierarchy</th>\n",
       "      <th>rootID</th>\n",
       "    </tr>\n",
       "  </thead>\n",
       "  <tbody>\n",
       "    <tr>\n",
       "      <th>0</th>\n",
       "      <td>5145502401431273</td>\n",
       "      <td>左下灯偏青</td>\n",
       "      <td>男</td>\n",
       "      <td>0</td>\n",
       "      <td>27</td>\n",
       "      <td>北京</td>\n",
       "      <td>在国航飞机上看到了明日方舟的音乐内容[doge]这是运营也玩吗</td>\n",
       "      <td>0</td>\n",
       "      <td>2025-03-18 11:00:34</td>\n",
       "      <td>根评论</td>\n",
       "      <td>5145502401431273</td>\n",
       "    </tr>\n",
       "    <tr>\n",
       "      <th>1</th>\n",
       "      <td>5143708904459705</td>\n",
       "      <td>fengwang33009</td>\n",
       "      <td>男</td>\n",
       "      <td>0</td>\n",
       "      <td>7</td>\n",
       "      <td>四川</td>\n",
       "      <td>吗</td>\n",
       "      <td>0</td>\n",
       "      <td>2025-03-13 12:13:51</td>\n",
       "      <td>根评论</td>\n",
       "      <td>5143708904459705</td>\n",
       "    </tr>\n",
       "    <tr>\n",
       "      <th>2</th>\n",
       "      <td>5143165967272975</td>\n",
       "      <td>如谜199108</td>\n",
       "      <td>男</td>\n",
       "      <td>0</td>\n",
       "      <td>2</td>\n",
       "      <td>安徽</td>\n",
       "      <td>代肝dd哦</td>\n",
       "      <td>0</td>\n",
       "      <td>2025-03-12 00:16:25</td>\n",
       "      <td>根评论</td>\n",
       "      <td>5143165967272975</td>\n",
       "    </tr>\n",
       "    <tr>\n",
       "      <th>3</th>\n",
       "      <td>5142344862535718</td>\n",
       "      <td>放鹤归舟vV</td>\n",
       "      <td>女</td>\n",
       "      <td>0</td>\n",
       "      <td>2</td>\n",
       "      <td>广东</td>\n",
       "      <td>转发微博</td>\n",
       "      <td>0</td>\n",
       "      <td>2025-03-09 17:53:38</td>\n",
       "      <td>根评论</td>\n",
       "      <td>5142344862535718</td>\n",
       "    </tr>\n",
       "    <tr>\n",
       "      <th>4</th>\n",
       "      <td>5141878979954586</td>\n",
       "      <td>啦啦的咯</td>\n",
       "      <td>女</td>\n",
       "      <td>0</td>\n",
       "      <td>53</td>\n",
       "      <td>山东</td>\n",
       "      <td>加强弑君者</td>\n",
       "      <td>0</td>\n",
       "      <td>2025-03-08 11:02:23</td>\n",
       "      <td>根评论</td>\n",
       "      <td>5141878979954586</td>\n",
       "    </tr>\n",
       "  </tbody>\n",
       "</table>\n",
       "</div>"
      ]
     },
     "execution_count": 3,
     "metadata": {},
     "output_type": "execute_result"
    }
   ],
   "execution_count": 3
  },
  {
   "metadata": {
    "ExecuteTime": {
     "end_time": "2025-04-14T05:38:30.440302Z",
     "start_time": "2025-04-14T05:38:30.426099Z"
    }
   },
   "cell_type": "code",
   "source": "bilibili_df.head()",
   "id": "d355db63d1be8842",
   "outputs": [
    {
     "data": {
      "text/plain": [
       "             ID nickname gender  level  followers address  \\\n",
       "0  256943227920   孔白不是空白      男      5          1      湖北   \n",
       "1  256188061825    紫藤挂云幕     保密      6          3      湖南   \n",
       "2  256945049440     卡希莉丝      女      5         41      湖南   \n",
       "3  256946796224   我有完全境界     保密      6          5      广东   \n",
       "4  256191268033  取消确认再取消     保密      5          6      广西   \n",
       "\n",
       "                                    content  likes                time  \\\n",
       "0                        这yj太坏了[Mygo表情包_生气]    804 2025-03-04 18:44:38   \n",
       "1                                     还有惊吓😱   1294 2025-03-04 18:51:54   \n",
       "2                      前面演示盯帧面板能看到，面板攻击力588   1765 2025-03-04 19:05:42   \n",
       "3         回复 @取消确认再取消 : 感觉上限不高虐菜也虐不明白，牌面是挺足    561 2025-03-04 19:28:17   \n",
       "4  天赋是攻击范围内敌人被击倒生成召唤物，不用抢人头了，但面板这么低我还是不怎么看好    334 2025-03-04 19:32:13   \n",
       "\n",
       "  hierarchy        rootID  \n",
       "0       子评论  256942915088  \n",
       "1       子评论  256942915088  \n",
       "2       子评论  256942915088  \n",
       "3       子评论  256942915088  \n",
       "4       子评论  256942915088  "
      ],
      "text/html": [
       "<div>\n",
       "<style scoped>\n",
       "    .dataframe tbody tr th:only-of-type {\n",
       "        vertical-align: middle;\n",
       "    }\n",
       "\n",
       "    .dataframe tbody tr th {\n",
       "        vertical-align: top;\n",
       "    }\n",
       "\n",
       "    .dataframe thead th {\n",
       "        text-align: right;\n",
       "    }\n",
       "</style>\n",
       "<table border=\"1\" class=\"dataframe\">\n",
       "  <thead>\n",
       "    <tr style=\"text-align: right;\">\n",
       "      <th></th>\n",
       "      <th>ID</th>\n",
       "      <th>nickname</th>\n",
       "      <th>gender</th>\n",
       "      <th>level</th>\n",
       "      <th>followers</th>\n",
       "      <th>address</th>\n",
       "      <th>content</th>\n",
       "      <th>likes</th>\n",
       "      <th>time</th>\n",
       "      <th>hierarchy</th>\n",
       "      <th>rootID</th>\n",
       "    </tr>\n",
       "  </thead>\n",
       "  <tbody>\n",
       "    <tr>\n",
       "      <th>0</th>\n",
       "      <td>256943227920</td>\n",
       "      <td>孔白不是空白</td>\n",
       "      <td>男</td>\n",
       "      <td>5</td>\n",
       "      <td>1</td>\n",
       "      <td>湖北</td>\n",
       "      <td>这yj太坏了[Mygo表情包_生气]</td>\n",
       "      <td>804</td>\n",
       "      <td>2025-03-04 18:44:38</td>\n",
       "      <td>子评论</td>\n",
       "      <td>256942915088</td>\n",
       "    </tr>\n",
       "    <tr>\n",
       "      <th>1</th>\n",
       "      <td>256188061825</td>\n",
       "      <td>紫藤挂云幕</td>\n",
       "      <td>保密</td>\n",
       "      <td>6</td>\n",
       "      <td>3</td>\n",
       "      <td>湖南</td>\n",
       "      <td>还有惊吓😱</td>\n",
       "      <td>1294</td>\n",
       "      <td>2025-03-04 18:51:54</td>\n",
       "      <td>子评论</td>\n",
       "      <td>256942915088</td>\n",
       "    </tr>\n",
       "    <tr>\n",
       "      <th>2</th>\n",
       "      <td>256945049440</td>\n",
       "      <td>卡希莉丝</td>\n",
       "      <td>女</td>\n",
       "      <td>5</td>\n",
       "      <td>41</td>\n",
       "      <td>湖南</td>\n",
       "      <td>前面演示盯帧面板能看到，面板攻击力588</td>\n",
       "      <td>1765</td>\n",
       "      <td>2025-03-04 19:05:42</td>\n",
       "      <td>子评论</td>\n",
       "      <td>256942915088</td>\n",
       "    </tr>\n",
       "    <tr>\n",
       "      <th>3</th>\n",
       "      <td>256946796224</td>\n",
       "      <td>我有完全境界</td>\n",
       "      <td>保密</td>\n",
       "      <td>6</td>\n",
       "      <td>5</td>\n",
       "      <td>广东</td>\n",
       "      <td>回复 @取消确认再取消 : 感觉上限不高虐菜也虐不明白，牌面是挺足</td>\n",
       "      <td>561</td>\n",
       "      <td>2025-03-04 19:28:17</td>\n",
       "      <td>子评论</td>\n",
       "      <td>256942915088</td>\n",
       "    </tr>\n",
       "    <tr>\n",
       "      <th>4</th>\n",
       "      <td>256191268033</td>\n",
       "      <td>取消确认再取消</td>\n",
       "      <td>保密</td>\n",
       "      <td>5</td>\n",
       "      <td>6</td>\n",
       "      <td>广西</td>\n",
       "      <td>天赋是攻击范围内敌人被击倒生成召唤物，不用抢人头了，但面板这么低我还是不怎么看好</td>\n",
       "      <td>334</td>\n",
       "      <td>2025-03-04 19:32:13</td>\n",
       "      <td>子评论</td>\n",
       "      <td>256942915088</td>\n",
       "    </tr>\n",
       "  </tbody>\n",
       "</table>\n",
       "</div>"
      ]
     },
     "execution_count": 4,
     "metadata": {},
     "output_type": "execute_result"
    }
   ],
   "execution_count": 4
  },
  {
   "metadata": {},
   "cell_type": "markdown",
   "source": "### 1.4 筛选3月13日之前的评论",
   "id": "8ba56c7316b34b0f"
  },
  {
   "metadata": {
    "ExecuteTime": {
     "end_time": "2025-04-14T05:38:32.489566Z",
     "start_time": "2025-04-14T05:38:32.452199Z"
    }
   },
   "cell_type": "code",
   "source": [
    "def filter_by_time(df):\n",
    "    df['time'] = pd.to_datetime(df['time'])\n",
    "    num1 = df.size\n",
    "    df_filter = df[df['time'] < pd.to_datetime('2025-03-13')]\n",
    "    num2 = df_filter.size\n",
    "    print(f\"删除的{num1 - num2}条记录\")\n",
    "    return df_filter\n",
    "\n",
    "\n",
    "weibo_df = filter_by_time(weibo_df)\n",
    "bilibili_df = filter_by_time(bilibili_df)"
   ],
   "id": "1c8183c7206e11e6",
   "outputs": [
    {
     "name": "stdout",
     "output_type": "stream",
     "text": [
      "删除的2266条记录\n",
      "删除的6897条记录\n"
     ]
    }
   ],
   "execution_count": 5
  },
  {
   "metadata": {
    "ExecuteTime": {
     "end_time": "2025-04-14T05:38:37.505555Z",
     "start_time": "2025-04-14T05:38:36.913627Z"
    }
   },
   "cell_type": "code",
   "source": [
    "weibo_df.to_csv(\"../../result/task3/weibo_total_comments.csv\", index=False)\n",
    "bilibili_df.to_csv(\"../../result/task3/bilibili_total_comments.csv\", index=False)"
   ],
   "id": "8fab66bddd67e9ec",
   "outputs": [],
   "execution_count": 6
  },
  {
   "metadata": {},
   "cell_type": "markdown",
   "source": "## 二、绘制密度图",
   "id": "6c6df35e8147f60f"
  },
  {
   "metadata": {},
   "cell_type": "code",
   "source": [
    "def draw_density_plot(df: pd.DataFrame, platform=''):\n",
    "    df['time'] = pd.to_datetime(df['time'])\n",
    "    df['hour'] = df['time'].dt.hour\n",
    "    # 绘制核密度图\n",
    "    sns.kdeplot(x=df['hour'], linewidth=2)\n",
    "    # 设置x轴和y轴的范围\n",
    "    plt.xlim(0, 23)\n",
    "    plt.ylim(0, None)\n",
    "    # 修改横轴刻度显示，每间隔1个小时写一个数字，从0开始，到24\n",
    "    plt.xticks(np.arange(0, 24))\n",
    "    plt.xlabel('时间')\n",
    "    plt.ylabel('评论数密度')\n",
    "    plt.title(f'{platform}评论的时间密度函数图')\n",
    "    plt.grid(True, which='both', linestyle='--', linewidth=0.5)\n",
    "    plt.savefig(fname=f\"../result/resources/{platform}_kde_plot.png\", bbox_inches='tight')\n",
    "    plt.show()\n"
   ],
   "id": "b97e052955f1226",
   "outputs": [],
   "execution_count": null
  },
  {
   "metadata": {},
   "cell_type": "code",
   "source": "draw_density_plot(weibo_df, platform='微博')",
   "id": "c0b5af44c264518b",
   "outputs": [],
   "execution_count": null
  },
  {
   "metadata": {},
   "cell_type": "code",
   "source": "draw_density_plot(bilibili_df, platform='B站')",
   "id": "4ce54ab7ea627fca",
   "outputs": [],
   "execution_count": null
  },
  {
   "metadata": {},
   "cell_type": "markdown",
   "source": "## 三、绘制柱状图",
   "id": "1158ce76ff02c1d5"
  },
  {
   "metadata": {},
   "cell_type": "code",
   "source": [
    "def draw_bar_chart(df: pd.DataFrame, platform=''):\n",
    "    df['time'] = pd.to_datetime(df['time'])\n",
    "    # 按天统计评论数\n",
    "    df['date'] = df['time'].dt.date\n",
    "    daily_data = df.groupby('date').size()\n",
    "    # 绘制柱状图\n",
    "    plt.figure(figsize=(12, 6))\n",
    "    bars = plt.bar(daily_data.index, daily_data.values)\n",
    "    # 在每根柱子上标注数值\n",
    "    for bar in bars:\n",
    "        height = bar.get_height()\n",
    "        plt.text(bar.get_x() + bar.get_width() / 2, height, f'{height}',\n",
    "                 ha='center', va='bottom')\n",
    "    plt.title(f'{platform}评论数量的按日期分布')\n",
    "    plt.xlabel('日期')\n",
    "    plt.ylabel('评论数量')\n",
    "    plt.savefig(fname=f\"../result/resources/{platform}_bar_chart.png\", bbox_inches='tight')\n",
    "    plt.show()"
   ],
   "id": "93d6f1646d2461d",
   "outputs": [],
   "execution_count": null
  },
  {
   "metadata": {},
   "cell_type": "code",
   "source": "draw_bar_chart(weibo_df, platform='微博')",
   "id": "eb286c0d32b35eb2",
   "outputs": [],
   "execution_count": null
  },
  {
   "metadata": {},
   "cell_type": "code",
   "source": "draw_bar_chart(bilibili_df, platform='B站')",
   "id": "8547803211803f",
   "outputs": [],
   "execution_count": null
  },
  {
   "metadata": {},
   "cell_type": "markdown",
   "source": "## 四、绘制词云图",
   "id": "4fdf8807d7d57e5a"
  },
  {
   "metadata": {
    "ExecuteTime": {
     "end_time": "2025-04-04T15:24:03.841Z",
     "start_time": "2025-04-04T15:24:03.373898Z"
    }
   },
   "cell_type": "code",
   "source": [
    "def load_stops():\n",
    "    stops = []\n",
    "    with open(stops_path, encoding='utf-8') as fr:\n",
    "        for line in fr:\n",
    "            stops.append(line.strip().lower())\n",
    "    return stops\n",
    "\n",
    "\n",
    "def process_text(text, stopwords):\n",
    "    words = jieba.cut(text)  # 使用 jieba 分词\n",
    "    # 过滤停用词并去除空白词\n",
    "    filtered_words = [word.strip() for word in words if word.strip() not in stopwords and len(word.strip()) > 1]\n",
    "    return filtered_words\n",
    "\n",
    "\n",
    "def draw_total_wordcloud(df: pd.DataFrame, stops=None, platform=''):\n",
    "    df['time'] = pd.to_datetime(df['time'])\n",
    "    # 按天统计评论数\n",
    "    df['date'] = df['time'].dt.date\n",
    "    # 过滤日期范围\n",
    "    start_date_str = df['date'].min()\n",
    "    end_date_str = df['date'].max()\n",
    "    start_date = pd.to_datetime(start_date_str)\n",
    "    end_date = pd.to_datetime(end_date_str)\n",
    "\n",
    "    mask = (df['time'] >= start_date) & (df['time'] <= end_date)\n",
    "    df_period = df[mask]\n",
    "    total_text = ' '.join(df_period['content'].dropna())\n",
    "    # 分词并去停用词\n",
    "    total_words = process_text(total_text, stops)\n",
    "    total_counts = Counter(total_words)\n",
    "    # 生成总体词云图\n",
    "    wordcloud_total = WordCloud(\n",
    "        font_path='msyh.ttc',\n",
    "        width=1200,\n",
    "        height=600,\n",
    "        background_color='white',\n",
    "        colormap='Set2',\n",
    "        max_words=400,\n",
    "        min_font_size=10\n",
    "    ).generate_from_frequencies(total_counts)\n",
    "    # 保存总体词云图\n",
    "    wordcloud_total.to_file(f'../result/resources/{platform}_total_wordcloud.png')\n",
    "    # 显示词云图\n",
    "    plt.figure(figsize=(12, 6))\n",
    "    plt.imshow(wordcloud_total, interpolation='bilinear')\n",
    "    plt.axis('off')\n",
    "    plt.title(f\"{platform}总体词云图\")\n",
    "    plt.show()\n",
    "\n",
    "\n",
    "def draw_daily_wordcloud(df: pd.DataFrame, stops=None, platform=''):\n",
    "    df['time'] = pd.to_datetime(df['time'])\n",
    "    # 按天统计评论数\n",
    "    df['date'] = df['time'].dt.date\n",
    "    daily_words = []\n",
    "    daily_counts = []\n",
    "    # 过滤日期范围\n",
    "    start_date_str = df['date'].min()\n",
    "    end_date_str = df['date'].max()\n",
    "    start_date = pd.to_datetime(start_date_str)\n",
    "    end_date = pd.to_datetime(end_date_str)\n",
    "\n",
    "    day = start_date\n",
    "\n",
    "    while day <= end_date:\n",
    "        next_day = day + datetime.timedelta(days=1)\n",
    "        day_text = ' '.join(df[(df['time'] >= day) & (df['time'] < next_day)]['content'].dropna())\n",
    "        if day_text.strip():\n",
    "            day_words = process_text(day_text, stops)\n",
    "            day_counts = Counter(day_words)\n",
    "            daily_words.append(day_words)\n",
    "            daily_counts.append(day_counts)\n",
    "        day += datetime.timedelta(days=1)\n",
    "        \n",
    "    # 创建一个新的图形（9个小图）\n",
    "    fig, axes = plt.subplots(3, 3, figsize=(16, 12))\n",
    "    fig.subplots_adjust(hspace=0.3, wspace=0.3)\n",
    "\n",
    "    for idx in range(9):\n",
    "        day_str = start_date + pd.to_timedelta(idx, unit='d')\n",
    "        wc_day = WordCloud(\n",
    "            font_path='msyh.ttc',\n",
    "            width=400,\n",
    "            height=300,\n",
    "            background_color='white',\n",
    "            colormap='Set2',\n",
    "            max_words=200\n",
    "        ).generate_from_frequencies(daily_counts[idx])\n",
    "        row, col = divmod(idx, 3)\n",
    "        axes[row, col].imshow(wc_day, interpolation='bilinear')\n",
    "        axes[row, col].set_title(f\"{day_str}\", fontsize=10)\n",
    "        axes[row, col].axis('off')\n",
    "        # 保存每日词云图\n",
    "    plt.tight_layout()\n",
    "    plt.savefig(f\"../result/resources/{platform}_daily_wordcloud.png\", dpi=300, bbox_inches='tight')\n",
    "    plt.show()\n",
    "\n",
    "\n",
    "# 1. 加载停用词\n",
    "STOPS = load_stops()\n",
    "# 2. 加载自定义词典\n",
    "jieba.load_userdict(user_dict_path)"
   ],
   "id": "22d2736a8a2102f8",
   "outputs": [
    {
     "name": "stderr",
     "output_type": "stream",
     "text": [
      "Building prefix dict from the default dictionary ...\n",
      "Loading model from cache C:\\Users\\s6_ti\\AppData\\Local\\Temp\\jieba.cache\n",
      "Loading model cost 0.452 seconds.\n",
      "Prefix dict has been built successfully.\n"
     ]
    }
   ],
   "execution_count": 4
  },
  {
   "metadata": {
    "ExecuteTime": {
     "end_time": "2025-04-04T15:24:31.209473Z",
     "start_time": "2025-04-04T15:24:16.748413Z"
    }
   },
   "cell_type": "code",
   "source": [
    "# weibo_words, weibo_counts = get_total_words(weibo_df, stops=STOPS)\n",
    "# bilibili_words, bilibili_counts = get_total_words(bilibili_df, stops=STOPS)"
   ],
   "id": "3d8f67ac861f860a",
   "outputs": [],
   "execution_count": 6
  },
  {
   "metadata": {},
   "cell_type": "code",
   "source": "draw_total_wordcloud(weibo_df, stops=STOPS, platform='微博')",
   "id": "c416ed3a4e936937",
   "outputs": [],
   "execution_count": null
  },
  {
   "metadata": {},
   "cell_type": "code",
   "source": "draw_daily_wordcloud(weibo_df, stops=STOPS, platform='微博')",
   "id": "9287c6c0902baa70",
   "outputs": [],
   "execution_count": null
  },
  {
   "metadata": {},
   "cell_type": "code",
   "source": "draw_total_wordcloud(bilibili_df, stops=STOPS, platform='B站')",
   "id": "8dc56b06812b5170",
   "outputs": [],
   "execution_count": null
  },
  {
   "metadata": {},
   "cell_type": "code",
   "source": "draw_daily_wordcloud(bilibili_df, stops=STOPS, platform='B站')",
   "id": "14c348240322d85d",
   "outputs": [],
   "execution_count": null
  },
  {
   "metadata": {},
   "cell_type": "code",
   "source": "",
   "id": "a32e839f73655501",
   "outputs": [],
   "execution_count": null
  },
  {
   "metadata": {
    "ExecuteTime": {
     "end_time": "2025-04-04T16:32:20.500117Z",
     "start_time": "2025-04-04T16:32:20.495006Z"
    }
   },
   "cell_type": "code",
   "source": [
    "def find_comments_by_keywords(df, keywords, text_column='content', case_sensitive=False, return_indices=False):\n",
    "    \"\"\"\n",
    "    根据关键词列表查找包含这些词的评论行。\n",
    "    \n",
    "    参数：\n",
    "        df (pd.DataFrame): 原始评论 DataFrame\n",
    "        keywords (str or list): 关键词（单个词或词列表）\n",
    "        text_column (str): 要查找的列名，默认为 'content'\n",
    "        case_sensitive (bool): 是否区分大小写，默认 False\n",
    "        return_indices (bool): 是否返回行号索引，默认 False\n",
    "        \n",
    "    返回：\n",
    "        pd.DataFrame 或索引列表：匹配的评论行或索引\n",
    "    \"\"\"\n",
    "    if isinstance(keywords, str):\n",
    "        keywords = [keywords]\n",
    "\n",
    "    if not case_sensitive:\n",
    "        keywords = [kw.lower() for kw in keywords]\n",
    "        match_mask = df[text_column].astype(str).str.lower().apply(lambda x: any(kw in x for kw in keywords))\n",
    "    else:\n",
    "        match_mask = df[text_column].astype(str).apply(lambda x: any(kw in x for kw in keywords))\n",
    "\n",
    "    if return_indices:\n",
    "        return df[match_mask].index.tolist()\n",
    "    else:\n",
    "        return df[match_mask].copy()"
   ],
   "id": "a596c2c382651ef2",
   "outputs": [],
   "execution_count": 19
  },
  {
   "metadata": {
    "ExecuteTime": {
     "end_time": "2025-04-04T16:36:59.747714Z",
     "start_time": "2025-04-04T16:36:59.728913Z"
    }
   },
   "cell_type": "code",
   "source": "matching_df = find_comments_by_keywords(weibo_df, '大屏')",
   "id": "dbf50407141243f9",
   "outputs": [],
   "execution_count": 22
  },
  {
   "metadata": {
    "ExecuteTime": {
     "end_time": "2025-04-04T16:50:02.154956Z",
     "start_time": "2025-04-04T16:50:02.144999Z"
    }
   },
   "cell_type": "code",
   "source": [
    "comment_counts = weibo_df['content'].value_counts()\n",
    "weibo_df['repeat_count'] = weibo_df['content'].map(comment_counts)"
   ],
   "id": "bdda33b79256714b",
   "outputs": [],
   "execution_count": 24
  },
  {
   "metadata": {
    "ExecuteTime": {
     "end_time": "2025-04-04T17:03:11.680197Z",
     "start_time": "2025-04-04T17:03:01.459191Z"
    }
   },
   "cell_type": "code",
   "source": [
    "def clean_text(text, stopwords):\n",
    "    words = jieba.lcut(text)\n",
    "    words = [w.strip() for w in words if len(w.strip()) > 1 and w not in stopwords]\n",
    "    return ' '.join(words)\n",
    "weibo_df['clean_text'] = weibo_df['content'].astype(str).apply(lambda x: clean_text(x, STOPS))\n",
    "\n"
   ],
   "id": "5ab05fc9c5b1abc0",
   "outputs": [],
   "execution_count": 25
  },
  {
   "metadata": {
    "ExecuteTime": {
     "end_time": "2025-04-04T17:04:21.514379Z",
     "start_time": "2025-04-04T17:04:21.503431Z"
    }
   },
   "cell_type": "code",
   "source": [
    "from sklearn.feature_extraction.text import TfidfVectorizer\n",
    "from sklearn.metrics.pairwise import cosine_similarity\n",
    "from tqdm import tqdm\n",
    "\n",
    "def detect_similar_groups(texts, threshold=0.9):\n",
    "    \"\"\"\n",
    "    输入文本列表，输出：每条文本属于哪个模糊重复组。\n",
    "    \"\"\"\n",
    "    vectorizer = TfidfVectorizer(max_features=3000)\n",
    "    tfidf = vectorizer.fit_transform(texts)\n",
    "    sim_matrix = cosine_similarity(tfidf)\n",
    "\n",
    "    n = len(texts)\n",
    "    group_ids = [-1] * n\n",
    "    current_group = 0\n",
    "\n",
    "    for i in tqdm(range(n)):\n",
    "        if group_ids[i] != -1:\n",
    "            continue  # 已归入某一组\n",
    "        group_ids[i] = current_group\n",
    "        for j in range(i + 1, n):\n",
    "            if group_ids[j] == -1 and sim_matrix[i, j] >= threshold:\n",
    "                group_ids[j] = current_group\n",
    "        current_group += 1\n",
    "\n",
    "    return group_ids"
   ],
   "id": "b507806a5864d8b5",
   "outputs": [],
   "execution_count": 27
  },
  {
   "metadata": {
    "ExecuteTime": {
     "end_time": "2025-04-04T17:31:57.037438Z",
     "start_time": "2025-04-04T17:31:56.971691Z"
    }
   },
   "cell_type": "code",
   "source": [
    "# 1. 加载停用词\n",
    "STOPS = load_stops()\n",
    "# 2. 加载自定义词典\n",
    "jieba.load_userdict(user_dict_path)\n",
    "\n",
    "df_small = weibo_df.sample(1000, random_state=42)  # 建议先在小样本试运行\n",
    "group_labels = detect_similar_groups(df_small['clean_text'].tolist(), threshold=0.9)\n",
    "df_small['similar_group'] = group_labels"
   ],
   "id": "5135237f66b40666",
   "outputs": [
    {
     "name": "stderr",
     "output_type": "stream",
     "text": [
      "100%|██████████| 1000/1000 [00:00<00:00, 22871.08it/s]\n"
     ]
    }
   ],
   "execution_count": 35
  },
  {
   "metadata": {
    "ExecuteTime": {
     "end_time": "2025-04-04T18:17:14.291835Z",
     "start_time": "2025-04-04T18:17:14.272149Z"
    }
   },
   "cell_type": "code",
   "source": "matching_df = find_comments_by_keywords(weibo_df, '一个')",
   "id": "cd40ea8b9b7949a4",
   "outputs": [],
   "execution_count": 40
  }
 ],
 "metadata": {
  "kernelspec": {
   "display_name": "Python 3",
   "language": "python",
   "name": "python3"
  },
  "language_info": {
   "codemirror_mode": {
    "name": "ipython",
    "version": 2
   },
   "file_extension": ".py",
   "mimetype": "text/x-python",
   "name": "python",
   "nbconvert_exporter": "python",
   "pygments_lexer": "ipython2",
   "version": "2.7.6"
  }
 },
 "nbformat": 4,
 "nbformat_minor": 5
}
